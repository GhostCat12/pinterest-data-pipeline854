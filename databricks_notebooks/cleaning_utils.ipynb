{
 "cells": [
  {
   "cell_type": "markdown",
   "metadata": {
    "application/vnd.databricks.v1+cell": {
     "cellMetadata": {},
     "inputWidgets": {},
     "nuid": "af0eb5d3-3e84-4851-8022-8976aa2447f4",
     "showTitle": false,
     "title": ""
    }
   },
   "source": [
    "#### Cleaning df_pin dataframe function"
   ]
  },
  {
   "cell_type": "code",
   "execution_count": 0,
   "metadata": {
    "application/vnd.databricks.v1+cell": {
     "cellMetadata": {},
     "inputWidgets": {},
     "nuid": "4b14ce44-e0de-47ad-a9dd-c3abfde66c3f",
     "showTitle": false,
     "title": ""
    }
   },
   "outputs": [],
   "source": [
    "def clean_df_pin(df_pin):\n",
    "    irrelevant_data = {\"description\": \"No description available Story format\",\n",
    "                    \"follower_count\": \"User Info Error\",\n",
    "                    \"image_src\" : \"Image src error.\",\n",
    "                    \"poster_name\" : \"User Info Error\",\n",
    "                    \"tag_list\": \"N,o, ,T,a,g,s, ,A,v,a,i,l,a,b,l,e\",\n",
    "                    \"title\" : \"No Title Data Available\"}\n",
    "    \n",
    "    # Function to remove irrelevant data from all columns\n",
    "    def replace_values_to_null(dataframe, col_name, value_to_replace): \n",
    "        dataframe = dataframe.replace({value_to_replace: None}, subset=[col_name])\n",
    "        return dataframe\n",
    "\n",
    "    for key, value in irrelevant_data.items():\n",
    "        df_pin = replace_values_to_null(dataframe=df_pin, col_name=key, value_to_replace=value)\n",
    "\n",
    "    # Transform follower_count column to ensure every entry is a number, and data type is an int.\n",
    "    df_pin = df_pin.withColumn(\"follower_count\", regexp_replace(\"follower_count\", \"k\", \"000\"))\\\n",
    "        .withColumn(\"follower_count\", regexp_replace(\"follower_count\", \"M\", \"000000\"))\n",
    "    df_pin = df_pin.withColumn(\"follower_count\", df_pin[\"follower_count\"].cast(\"int\"))\n",
    "\n",
    "    # Ensure that remaining columns containing numeric data have numeric data type.\n",
    "    df_pin = df_pin.withColumn(\"downloaded\", df_pin[\"downloaded\"].cast(\"int\"))\n",
    "    df_pin = df_pin.withColumn(\"index\", df_pin[\"index\"].cast(\"int\"))\n",
    "\n",
    "    # Clean the data in the save_location column to include only the save location path\n",
    "    df_pin = df_pin.withColumn(\"save_location\", regexp_replace(\"save_location\", \"Local save in \", \"\"))\n",
    "\n",
    "    # Rename the index column to ind\n",
    "    df_pin = df_pin.withColumnRenamed(\"index\", \"ind\")\n",
    "    # Reorder the DataFrame columns\n",
    "    df_pin = df_pin.select(['ind', 'unique_id', 'title', 'description', 'follower_count', 'poster_name', \n",
    "                            'tag_list', 'is_image_or_video', 'image_src', 'save_location', 'category'])\n",
    "    \n",
    "    return df_pin"
   ]
  },
  {
   "cell_type": "markdown",
   "metadata": {
    "application/vnd.databricks.v1+cell": {
     "cellMetadata": {},
     "inputWidgets": {},
     "nuid": "cb7b1be5-a857-4e59-8c0c-91dc8acbdf55",
     "showTitle": false,
     "title": ""
    }
   },
   "source": [
    "#### Cleaning df_geo dataframe function"
   ]
  },
  {
   "cell_type": "code",
   "execution_count": 0,
   "metadata": {
    "application/vnd.databricks.v1+cell": {
     "cellMetadata": {},
     "inputWidgets": {},
     "nuid": "814a88c0-9cdc-485c-ae38-2f733c3a2d18",
     "showTitle": false,
     "title": ""
    }
   },
   "outputs": [
    {
     "output_type": "display_data",
     "data": {
      "text/html": [
       "<style scoped>\n",
       "  .ansiout {\n",
       "    display: block;\n",
       "    unicode-bidi: embed;\n",
       "    white-space: pre-wrap;\n",
       "    word-wrap: break-word;\n",
       "    word-break: break-all;\n",
       "    font-family: \"Menlo\", \"Monaco\", \"Consolas\", \"Ubuntu Mono\", \"Source Code Pro\", monospace;\n",
       "    font-size: 13px;\n",
       "    color: #555;\n",
       "    margin-left: 4px;\n",
       "    line-height: 19px;\n",
       "  }\n",
       "</style>\n",
       "<div class=\"ansiout\"></div>"
      ]
     },
     "metadata": {
      "application/vnd.databricks.v1+output": {
       "addedWidgets": {},
       "arguments": {},
       "data": "<div class=\"ansiout\"></div>",
       "datasetInfos": [],
       "metadata": {},
       "removedWidgets": [],
       "type": "html"
      }
     },
     "output_type": "display_data"
    }
   ],
   "source": [
    "def clean_df_geo(df_geo):    \n",
    "    # Create a new column coordinates that contains an array based on the latitude and longitude columns\n",
    "    df_geo = df_geo.withColumn('coordinates', array(col('latitude'), col('longitude')))\n",
    "    # Drop the latitude and longitude columns from the DataFrame\n",
    "    df_geo = df_geo.drop(\"latitude\", \"longitude\")\n",
    "\n",
    "    # Convert the timestamp column to a timestamp data type\n",
    "    # df_geo = df_geo.withColumn(\"timestamp\", unix_timestamp(\"timestamp\", \"yyyy-MM-dd HH:mm:ss\").cast(\"timestamp\"))\n",
    "    df_geo = df_geo.withColumn(\"timestamp\", to_timestamp(\"timestamp\"))\n",
    "    df_geo = df_geo.withColumn(\"ind\", df_geo[\"ind\"].cast(\"int\"))\n",
    "\n",
    "    # Reorder the DataFrame columns\n",
    "    df_geo = df_geo.select(['ind', 'country', 'coordinates', 'timestamp'])\n",
    "\n",
    "    return df_geo"
   ]
  },
  {
   "cell_type": "markdown",
   "metadata": {
    "application/vnd.databricks.v1+cell": {
     "cellMetadata": {},
     "inputWidgets": {},
     "nuid": "269cefbc-d9fc-4441-9b2c-acc9719de509",
     "showTitle": false,
     "title": ""
    }
   },
   "source": [
    "#### Cleaning df_user dataframe function"
   ]
  },
  {
   "cell_type": "code",
   "execution_count": 0,
   "metadata": {
    "application/vnd.databricks.v1+cell": {
     "cellMetadata": {},
     "inputWidgets": {},
     "nuid": "ce9594c4-aab8-40d0-acf0-5af2037bb7ec",
     "showTitle": false,
     "title": ""
    }
   },
   "outputs": [
    {
     "output_type": "display_data",
     "data": {
      "text/html": [
       "<style scoped>\n",
       "  .ansiout {\n",
       "    display: block;\n",
       "    unicode-bidi: embed;\n",
       "    white-space: pre-wrap;\n",
       "    word-wrap: break-word;\n",
       "    word-break: break-all;\n",
       "    font-family: \"Menlo\", \"Monaco\", \"Consolas\", \"Ubuntu Mono\", \"Source Code Pro\", monospace;\n",
       "    font-size: 13px;\n",
       "    color: #555;\n",
       "    margin-left: 4px;\n",
       "    line-height: 19px;\n",
       "  }\n",
       "</style>\n",
       "<div class=\"ansiout\"></div>"
      ]
     },
     "metadata": {
      "application/vnd.databricks.v1+output": {
       "addedWidgets": {},
       "arguments": {},
       "data": "<div class=\"ansiout\"></div>",
       "datasetInfos": [],
       "metadata": {},
       "removedWidgets": [],
       "type": "html"
      }
     },
     "output_type": "display_data"
    }
   ],
   "source": [
    "def clean_df_user(df_user):    \n",
    "    # Create a new column user_name that concatenates the information found in the first_name and last_name columns\n",
    "    df_user = df_user.withColumn(\"user_name\", concat(col(\"first_name\"), lit(\" \"), col(\"last_name\")))\n",
    "    # Drop the first_name and last_name columns from the DataFrame\n",
    "    df_user = df_user.drop(\"first_name\", \"last_name\")\n",
    "\n",
    "    # Convert the date_joined column from a string to a timestamp data type\n",
    "    df_user = df_user.withColumn(\"date_joined\", unix_timestamp(\"date_joined\", \"yyyy-MM-dd HH:mm:ss\").cast(\"timestamp\"))\n",
    "    # Ensure that each column containing numeric data has a numeric data type\n",
    "    df_user = df_user.withColumn(\"ind\", df_user[\"ind\"].cast(\"int\"))\n",
    "    df_user = df_user.withColumn(\"age\", df_user[\"age\"].cast(\"int\"))\n",
    "\n",
    "    # Reorder the DataFrame columns\n",
    "    df_user = df_user.select(['ind', 'user_name', 'age', 'date_joined'])\n",
    "    \n",
    "    return df_user"
   ]
  }
 ],
 "metadata": {
  "application/vnd.databricks.v1+notebook": {
   "dashboards": [],
   "language": "python",
   "notebookMetadata": {
    "pythonIndentUnit": 4
   },
   "notebookName": "cleaning_utils",
   "widgets": {}
  }
 },
 "nbformat": 4,
 "nbformat_minor": 0
}
