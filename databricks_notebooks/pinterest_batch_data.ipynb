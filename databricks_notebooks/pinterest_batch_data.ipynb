{
 "cells": [
  {
   "cell_type": "markdown",
   "metadata": {
    "application/vnd.databricks.v1+cell": {
     "cellMetadata": {},
     "inputWidgets": {},
     "nuid": "69cf15fc-c2c0-479f-b1cb-891dfd4c9d3f",
     "showTitle": false,
     "title": ""
    }
   },
   "source": [
    "### Import libraries and local modules"
   ]
  },
  {
   "cell_type": "code",
   "execution_count": null,
   "metadata": {
    "application/vnd.databricks.v1+cell": {
     "cellMetadata": {
      "byteLimit": 2048000,
      "rowLimit": 10000
     },
     "inputWidgets": {},
     "nuid": "d87177a0-6dd8-4d41-ae0b-486e8cf2ba4a",
     "showTitle": false,
     "title": ""
    }
   },
   "outputs": [
    {
     "data": {
      "text/html": [
       "<style scoped>\n",
       "  .ansiout {\n",
       "    display: block;\n",
       "    unicode-bidi: embed;\n",
       "    white-space: pre-wrap;\n",
       "    word-wrap: break-word;\n",
       "    word-break: break-all;\n",
       "    font-family: \"Menlo\", \"Monaco\", \"Consolas\", \"Ubuntu Mono\", \"Source Code Pro\", monospace;\n",
       "    font-size: 13px;\n",
       "    color: #555;\n",
       "    margin-left: 4px;\n",
       "    line-height: 19px;\n",
       "  }\n",
       "</style>\n",
       "<div class=\"ansiout\"></div>"
      ]
     },
     "metadata": {
      "application/vnd.databricks.v1+output": {
       "addedWidgets": {},
       "arguments": {},
       "data": "<div class=\"ansiout\"></div>",
       "datasetInfos": [],
       "metadata": {},
       "removedWidgets": [],
       "type": "html"
      }
     },
     "output_type": "display_data"
    }
   ],
   "source": [
    "# Pyspark libraries\n",
    "from pyspark.sql.functions import *\n",
    "from pyspark.sql.window import Window"
   ]
  },
  {
   "cell_type": "code",
   "execution_count": null,
   "metadata": {
    "application/vnd.databricks.v1+cell": {
     "cellMetadata": {
      "byteLimit": 2048000,
      "rowLimit": 10000
     },
     "inputWidgets": {},
     "nuid": "909c35e2-ce6d-4ccd-917c-74b595664312",
     "showTitle": false,
     "title": ""
    },
    "jupyter": {
     "outputs_hidden": true
    }
   },
   "outputs": [],
   "source": [
    "%run ./authenticate_aws"
   ]
  },
  {
   "cell_type": "code",
   "execution_count": null,
   "metadata": {
    "application/vnd.databricks.v1+cell": {
     "cellMetadata": {
      "byteLimit": 2048000,
      "rowLimit": 10000
     },
     "inputWidgets": {},
     "nuid": "61bb806a-2c2c-4352-ab8a-2a320564b2f6",
     "showTitle": false,
     "title": ""
    },
    "jupyter": {
     "outputs_hidden": true
    }
   },
   "outputs": [
    {
     "data": {
      "text/html": [
       "<style scoped>\n",
       "  .ansiout {\n",
       "    display: block;\n",
       "    unicode-bidi: embed;\n",
       "    white-space: pre-wrap;\n",
       "    word-wrap: break-word;\n",
       "    word-break: break-all;\n",
       "    font-family: \"Menlo\", \"Monaco\", \"Consolas\", \"Ubuntu Mono\", \"Source Code Pro\", monospace;\n",
       "    font-size: 13px;\n",
       "    color: #555;\n",
       "    margin-left: 4px;\n",
       "    line-height: 19px;\n",
       "  }\n",
       "</style>\n",
       "<div class=\"ansiout\"></div>"
      ]
     },
     "metadata": {
      "application/vnd.databricks.v1+output": {
       "addedWidgets": {},
       "arguments": {},
       "data": "<div class=\"ansiout\"></div>",
       "datasetInfos": [],
       "metadata": {},
       "removedWidgets": [],
       "type": "html"
      }
     },
     "output_type": "display_data"
    },
    {
     "data": {
      "text/html": [
       "<style scoped>\n",
       "  .ansiout {\n",
       "    display: block;\n",
       "    unicode-bidi: embed;\n",
       "    white-space: pre-wrap;\n",
       "    word-wrap: break-word;\n",
       "    word-break: break-all;\n",
       "    font-family: \"Menlo\", \"Monaco\", \"Consolas\", \"Ubuntu Mono\", \"Source Code Pro\", monospace;\n",
       "    font-size: 13px;\n",
       "    color: #555;\n",
       "    margin-left: 4px;\n",
       "    line-height: 19px;\n",
       "  }\n",
       "</style>\n",
       "<div class=\"ansiout\"></div>"
      ]
     },
     "metadata": {
      "application/vnd.databricks.v1+output": {
       "addedWidgets": {},
       "arguments": {},
       "data": "<div class=\"ansiout\"></div>",
       "datasetInfos": [],
       "metadata": {},
       "removedWidgets": [],
       "type": "html"
      }
     },
     "output_type": "display_data"
    },
    {
     "data": {
      "text/html": [
       "<style scoped>\n",
       "  .ansiout {\n",
       "    display: block;\n",
       "    unicode-bidi: embed;\n",
       "    white-space: pre-wrap;\n",
       "    word-wrap: break-word;\n",
       "    word-break: break-all;\n",
       "    font-family: \"Menlo\", \"Monaco\", \"Consolas\", \"Ubuntu Mono\", \"Source Code Pro\", monospace;\n",
       "    font-size: 13px;\n",
       "    color: #555;\n",
       "    margin-left: 4px;\n",
       "    line-height: 19px;\n",
       "  }\n",
       "</style>\n",
       "<div class=\"ansiout\"></div>"
      ]
     },
     "metadata": {
      "application/vnd.databricks.v1+output": {
       "addedWidgets": {},
       "arguments": {},
       "data": "<div class=\"ansiout\"></div>",
       "datasetInfos": [],
       "metadata": {},
       "removedWidgets": [],
       "type": "html"
      }
     },
     "output_type": "display_data"
    },
    {
     "data": {
      "text/html": [
       "<style scoped>\n",
       "  .ansiout {\n",
       "    display: block;\n",
       "    unicode-bidi: embed;\n",
       "    white-space: pre-wrap;\n",
       "    word-wrap: break-word;\n",
       "    word-break: break-all;\n",
       "    font-family: \"Menlo\", \"Monaco\", \"Consolas\", \"Ubuntu Mono\", \"Source Code Pro\", monospace;\n",
       "    font-size: 13px;\n",
       "    color: #555;\n",
       "    margin-left: 4px;\n",
       "    line-height: 19px;\n",
       "  }\n",
       "</style>\n",
       "<div class=\"ansiout\"></div>"
      ]
     },
     "metadata": {
      "application/vnd.databricks.v1+output": {
       "addedWidgets": {},
       "arguments": {},
       "data": "<div class=\"ansiout\"></div>",
       "datasetInfos": [],
       "metadata": {},
       "removedWidgets": [],
       "type": "html"
      }
     },
     "output_type": "display_data"
    },
    {
     "data": {
      "text/html": [
       "<style scoped>\n",
       "  .ansiout {\n",
       "    display: block;\n",
       "    unicode-bidi: embed;\n",
       "    white-space: pre-wrap;\n",
       "    word-wrap: break-word;\n",
       "    word-break: break-all;\n",
       "    font-family: \"Menlo\", \"Monaco\", \"Consolas\", \"Ubuntu Mono\", \"Source Code Pro\", monospace;\n",
       "    font-size: 13px;\n",
       "    color: #555;\n",
       "    margin-left: 4px;\n",
       "    line-height: 19px;\n",
       "  }\n",
       "</style>\n",
       "<div class=\"ansiout\"></div>"
      ]
     },
     "metadata": {
      "application/vnd.databricks.v1+output": {
       "addedWidgets": {},
       "arguments": {},
       "data": "<div class=\"ansiout\"></div>",
       "datasetInfos": [],
       "metadata": {},
       "removedWidgets": [],
       "type": "html"
      }
     },
     "output_type": "display_data"
    }
   ],
   "source": [
    "%run ./cleaning_utils"
   ]
  },
  {
   "cell_type": "markdown",
   "metadata": {
    "application/vnd.databricks.v1+cell": {
     "cellMetadata": {},
     "inputWidgets": {},
     "nuid": "e3155f8f-bf69-41b7-be03-94bfa1ee6884",
     "showTitle": false,
     "title": ""
    }
   },
   "source": [
    "### Read data from the mounted S3 bucket"
   ]
  },
  {
   "cell_type": "code",
   "execution_count": null,
   "metadata": {
    "application/vnd.databricks.v1+cell": {
     "cellMetadata": {
      "byteLimit": 2048000,
      "rowLimit": 10000
     },
     "inputWidgets": {},
     "nuid": "42549299-da7c-4e3e-8073-e317be060ed0",
     "showTitle": false,
     "title": ""
    }
   },
   "outputs": [
    {
     "data": {
      "text/html": [
       "<style scoped>\n",
       "  .table-result-container {\n",
       "    max-height: 300px;\n",
       "    overflow: auto;\n",
       "  }\n",
       "  table, th, td {\n",
       "    border: 1px solid black;\n",
       "    border-collapse: collapse;\n",
       "  }\n",
       "  th, td {\n",
       "    padding: 5px;\n",
       "  }\n",
       "  th {\n",
       "    text-align: left;\n",
       "  }\n",
       "</style><div class='table-result-container'><table class='table-result'><thead style='background-color: white'><tr><th>country</th><th>ind</th><th>latitude</th><th>longitude</th><th>timestamp</th></tr></thead><tbody><tr><td>British Indian Ocean Territory (Chagos Archipelago)</td><td>9455</td><td>-82.9272</td><td>-150.346</td><td>2022-03-15 01:46:32</td></tr><tr><td>British Indian Ocean Territory (Chagos Archipelago)</td><td>6814</td><td>-86.5675</td><td>-149.565</td><td>2022-09-02 11:34:28</td></tr><tr><td>British Indian Ocean Territory (Chagos Archipelago)</td><td>5111</td><td>-83.7472</td><td>8.65953</td><td>2021-04-01 00:56:57</td></tr><tr><td>Antarctica (the territory South of 60 deg S)</td><td>10073</td><td>-32.8885</td><td>-170.295</td><td>2021-06-29 19:56:04</td></tr><tr><td>Antarctica (the territory South of 60 deg S)</td><td>2418</td><td>-88.4642</td><td>-171.061</td><td>2022-05-27 11:30:59</td></tr><tr><td>Antarctica (the territory South of 60 deg S)</td><td>5162</td><td>-71.6607</td><td>-149.206</td><td>2019-09-27 19:06:43</td></tr><tr><td>Antarctica (the territory South of 60 deg S)</td><td>1335</td><td>-77.9931</td><td>-175.682</td><td>2022-03-19 17:29:42</td></tr><tr><td>Antarctica (the territory South of 60 deg S)</td><td>9185</td><td>-10.3764</td><td>-22.9809</td><td>2019-10-06 18:12:55</td></tr><tr><td>Antarctica (the territory South of 60 deg S)</td><td>9335</td><td>-88.4642</td><td>-171.061</td><td>2020-11-14 23:42:22</td></tr><tr><td>Antarctica (the territory South of 60 deg S)</td><td>6749</td><td>-88.4642</td><td>-171.061</td><td>2018-04-16 07:39:46</td></tr></tbody></table></div>"
      ]
     },
     "metadata": {
      "application/vnd.databricks.v1+output": {
       "addedWidgets": {},
       "aggData": [],
       "aggError": "",
       "aggOverflow": false,
       "aggSchema": [],
       "aggSeriesLimitReached": false,
       "aggType": "",
       "arguments": {},
       "columnCustomDisplayInfos": {},
       "data": [
        [
         "British Indian Ocean Territory (Chagos Archipelago)",
         9455,
         -82.9272,
         -150.346,
         "2022-03-15 01:46:32"
        ],
        [
         "British Indian Ocean Territory (Chagos Archipelago)",
         6814,
         -86.5675,
         -149.565,
         "2022-09-02 11:34:28"
        ],
        [
         "British Indian Ocean Territory (Chagos Archipelago)",
         5111,
         -83.7472,
         8.65953,
         "2021-04-01 00:56:57"
        ],
        [
         "Antarctica (the territory South of 60 deg S)",
         10073,
         -32.8885,
         -170.295,
         "2021-06-29 19:56:04"
        ],
        [
         "Antarctica (the territory South of 60 deg S)",
         2418,
         -88.4642,
         -171.061,
         "2022-05-27 11:30:59"
        ],
        [
         "Antarctica (the territory South of 60 deg S)",
         5162,
         -71.6607,
         -149.206,
         "2019-09-27 19:06:43"
        ],
        [
         "Antarctica (the territory South of 60 deg S)",
         1335,
         -77.9931,
         -175.682,
         "2022-03-19 17:29:42"
        ],
        [
         "Antarctica (the territory South of 60 deg S)",
         9185,
         -10.3764,
         -22.9809,
         "2019-10-06 18:12:55"
        ],
        [
         "Antarctica (the territory South of 60 deg S)",
         9335,
         -88.4642,
         -171.061,
         "2020-11-14 23:42:22"
        ],
        [
         "Antarctica (the territory South of 60 deg S)",
         6749,
         -88.4642,
         -171.061,
         "2018-04-16 07:39:46"
        ]
       ],
       "datasetInfos": [],
       "dbfsResultPath": null,
       "isJsonSchema": true,
       "metadata": {},
       "overflow": false,
       "plotOptions": {
        "customPlotOptions": {},
        "displayType": "table",
        "pivotAggregation": null,
        "pivotColumns": null,
        "xColumns": null,
        "yColumns": null
       },
       "removedWidgets": [],
       "schema": [
        {
         "metadata": "{}",
         "name": "country",
         "type": "\"string\""
        },
        {
         "metadata": "{}",
         "name": "ind",
         "type": "\"long\""
        },
        {
         "metadata": "{}",
         "name": "latitude",
         "type": "\"double\""
        },
        {
         "metadata": "{}",
         "name": "longitude",
         "type": "\"double\""
        },
        {
         "metadata": "{}",
         "name": "timestamp",
         "type": "\"string\""
        }
       ],
       "type": "table"
      }
     },
     "output_type": "display_data"
    },
    {
     "data": {
      "text/html": [
       "<style scoped>\n",
       "  .table-result-container {\n",
       "    max-height: 300px;\n",
       "    overflow: auto;\n",
       "  }\n",
       "  table, th, td {\n",
       "    border: 1px solid black;\n",
       "    border-collapse: collapse;\n",
       "  }\n",
       "  th, td {\n",
       "    padding: 5px;\n",
       "  }\n",
       "  th {\n",
       "    text-align: left;\n",
       "  }\n",
       "</style><div class='table-result-container'><table class='table-result'><thead style='background-color: white'><tr><th>category</th><th>description</th><th>downloaded</th><th>follower_count</th><th>image_src</th><th>index</th><th>is_image_or_video</th><th>poster_name</th><th>save_location</th><th>tag_list</th><th>title</th><th>unique_id</th></tr></thead><tbody><tr><td>home-decor</td><td>Традиционные шведские коттеджи, обычно с красным фасадом — это настоящее воплощением идеального зимнего уюта. Они обычно оформлены очень просто и ✌PUFIK. Beautiful Interiors. On… </td><td>1</td><td>136k</td><td>https://i.pinimg.com/originals/32/eb/72/32eb72e4fd8654c115a64528bd1f34b4.png</td><td>6717</td><td>image</td><td>PUFIK Interiors & Inspirations</td><td>Local save in /data/home-decor</td><td>Scandinavian Cottage,Swedish Cottage,Swedish Home Decor,Swedish Farmhouse,Swedish Style,Swedish Kitchen,Kitchen Black,Swedish House,Cozy Cottage</td><td>〚 Уютные шведские коттеджи от Carina Olander 〛 ◾ Фото ◾ Идеи ◾ Дизайн</td><td>bc5ab9ee-505e-44f6-92ba-677fe4fdf3e3</td></tr><tr><td>home-decor</td><td>6,636 Likes, 141 Comments - The Cottage Journal (@thecottagejournal) on Instagram: “Can you say color?! 😍😍😍 We are loving the cheery vibes that these aqua blue cabinets are g… </td><td>1</td><td>394</td><td>https://i.pinimg.com/originals/8c/17/a2/8c17a257b70780480bb89c3699363144.jpg</td><td>6633</td><td>image</td><td>Sarah Martin</td><td>Local save in /data/home-decor</td><td>Diy Kitchen Cabinets,Kitchen Redo,Home Decor Kitchen,New Kitchen,Home Kitchens,Kitchen Remodeling,Aqua Kitchen,Kitchen Counters,Kitchen Islands</td><td>The Cottage Journal on Instagram: “Can you say color?! 😍😍😍 We are loving the cheery vibes that these aqua blue cabinets are giving. If you could paint your cabinets any…”</td><td>d136f6bc-840d-44f8-bbad-115eb7e6c51e</td></tr><tr><td>christmas</td><td>Features: Material:Lint Size:48ｘ18cm Quantity:1 pc Shape:Santa Claus, snowman. Elk Occasion:Christmas Description: 1. Fashion design, high quality 2. Santa Claus, snowman. Elk C… </td><td>1</td><td>5k</td><td>https://i.pinimg.com/originals/b5/7f/21/b57f219fa89c1165b57525b8eae711da.jpg</td><td>1706</td><td>image</td><td>Wear24-7</td><td>Local save in /data/christmas</td><td>Merry Christmas To You,Christmas Toys,Great Christmas Gifts,Christmas Snowman,Christmas Ornaments,Holiday,Christmas Party Decorations,Christmas Themes,Decoration Party</td><td>Standing Figurine Toys Xmas Santa Claus Snowman Reindeer Figure Plush Dolls Christmas Decorations Ornaments Home Indoor Table Ornaments Christmas Party Tree Hanging Decor Toys Gifts for Kids Friends…</td><td>b5c8a1b5-9e90-4522-9bec-2477b698d5b7</td></tr><tr><td>christmas</td><td>❤️ ❤️ MERRY CHRISTMAS ❤️ ❤️ ❤️ ❤️ Early Christmas Special:Buy 3 Get 1 Free, Buy 5 Get 2 Free,Deadline November 25. Color:GreenMaterial:Polyvinyl ChlorideItem Dimensions:LxWxH 20… </td><td>1</td><td>784</td><td>https://i.pinimg.com/originals/ef/40/7e/ef407e9568aa46fed4162bd1fd28786e.jpg</td><td>1676</td><td>image</td><td>paupoo</td><td>Local save in /data/christmas</td><td>Christmas Hanging Baskets,Christmas Plants,Christmas Wreaths,Christmas Ornaments,Merry Christmas,Christmas Sale,Christmas Porch Ideas,Hanging Christmas Lights,Christmas Island</td><td>PAUPOO™ Pre-lit Artificial Christmas Hanging Basket - Flocked with Mixed Decorations and White LED Lights - Frosted Berry BUY 5 GET 2 FREE(7PACKS)</td><td>3ed92c2d-9cca-4ccf-ac25-44a9d8bec919</td></tr><tr><td>christmas</td><td>Christmas decorating ideas for porches. Beautiful holiday decor ideas for front porches both small and large. Outdoor decorations like sleds, lanterns, Christmas trees, wreaths,… </td><td>1</td><td>46k</td><td>https://i.pinimg.com/videos/thumbnails/originals/40/83/f5/4083f5b4971bf235f89a4784ab87271e.0000001.jpg</td><td>2482</td><td>video</td><td>Life on Summerhill | Home, Holiday Decor & DIY Website</td><td>Local save in /data/christmas</td><td>Diy Christmas Decorations For Home,Farmhouse Christmas Decor,Christmas Home,Christmas Holidays,Christmas Front Porches,How To Decorate For Christmas,Christmas Porch Ideas,Christmas Decorating Ideas,Large Outdoor Christmas Decorations</td><td>FORNT PORCH CHRISTMAS DECORATING IDEAS</td><td>08604f20-fa17-4b9a-9949-781717eca6cd</td></tr><tr><td>christmas</td><td>About This Item We aim to show you accurate product information. Manufacturers, suppliers and others provide what you see here, and we have not verified it. 9ft Lighted Winter G… </td><td>1</td><td>5k</td><td>https://i.pinimg.com/originals/ac/28/79/ac28794ec86c522658775b03e93e8cc9.jpg</td><td>2430</td><td>image</td><td>Wear24-7</td><td>Local save in /data/christmas</td><td>Outside Christmas Decorations,Christmas House Lights,Holiday Decor,Decorating For Christmas Outdoors,Christmas Outdoor Lights,Fireplace Mantel Christmas Decorations,Exterior Christmas Lights,Christmas Garlands,Beautiful Christmas Decorations</td><td>9ft Lighted Winter Garland with Bows and Pine Accents, Indoor or Outdoor Christmas Decor</td><td>7e16143b-d84a-40a3-a617-e736b728df5d</td></tr><tr><td>event-planning</td><td>\"adult Surprise Birthday Cards 40th 50th 60th 70th 75th 80th 85th 90th Birthday Cards Fifty Fabulous Birthday Party Forty Birthday Invitation 50th 60th 70th 80th Surprise Birthd… </td><td>1</td><td>4M</td><td>https://i.pinimg.com/originals/9f/a7/b1/9fa7b1fe33555b81d050e6ebf6bb8871.jpg</td><td>4348</td><td>image</td><td>Etsy</td><td>Local save in /data/event-planning</td><td>90th Birthday Cards,Forty Birthday,Birthday Postcards,70th Birthday Parties,Happy Birthday Messages,Surprise Birthday,Birthday Ideas,Surprise Party Invitations,Passport Wedding Invitations</td><td>Surprise Birthday Cards 40th 50th 60th 70th 75th 80th 85th 90th Birthday Cards Fifty Fabulous Birthday Party Forty Birthday Invitation</td><td>c25f8906-d9ab-414c-90d6-a5322f714e44</td></tr><tr><td>home-decor</td><td>Description The Calligraphy Collection by Allan Copley Designs is meticulously crafted with great attention to detail. The Espresso on Kulin finish with Brushed Stainless Steel… </td><td>1</td><td>137</td><td>https://i.pinimg.com/originals/5f/4f/9f/5f4f9ff6154aba517a852ceb967e2c11.jpg</td><td>6521</td><td>image</td><td>Your Home, Reimagined LLC</td><td>Local save in /data/home-decor</td><td>Glass Top End Tables,End Table Sets,Sofa End Tables,End Tables With Storage,Side Tables,Metal Furniture,Rustic Furniture,Living Room Furniture,Luxury Furniture</td><td>Allan Copley Designs Calligraphy Square Glass Top End Table in Espresso Finish with Brushed Stainless Steel Accents by Allan Copley Designs - Espresso</td><td>dd508c7e-4ff3-4a94-94cb-abc1327c1f58</td></tr><tr><td>home-decor</td><td>Description The Calligraphy Collection by Allan Copley Designs is meticulously crafted with great attention to detail. The Espresso on Kulin finish with Brushed Stainless Steel… </td><td>1</td><td>137</td><td>https://i.pinimg.com/originals/5f/4f/9f/5f4f9ff6154aba517a852ceb967e2c11.jpg</td><td>6521</td><td>image</td><td>Your Home, Reimagined LLC</td><td>Local save in /data/home-decor</td><td>Glass Top End Tables,End Table Sets,Sofa End Tables,End Tables With Storage,Side Tables,Metal Furniture,Rustic Furniture,Living Room Furniture,Luxury Furniture</td><td>Allan Copley Designs Calligraphy Square Glass Top End Table in Espresso Finish with Brushed Stainless Steel Accents by Allan Copley Designs - Espresso</td><td>dd508c7e-4ff3-4a94-94cb-abc1327c1f58</td></tr><tr><td>vehicles</td><td>By David Crane ; defrev (at) gmail (dot) com All photos contained in this article were shot by DefenseReview.com (DR), and are copyrighted. DefenseReview.com owns the copyright… </td><td>1</td><td>709</td><td>https://i.pinimg.com/originals/36/63/12/366312d747da1358397610a86bf21b20.jpg</td><td>10538</td><td>image</td><td>Ricky Lee</td><td>Local save in /data/vehicles</td><td>Army Vehicles,Armored Vehicles,Cool Trucks,Cool Cars,Amphibious Vehicle,Offroader,Bug Out Vehicle,Vehicle Wraps,Terrain Vehicle</td><td>BC Customs (BCC) Search and Rescue Tactical Vehicle-5 (SRTV-5) Baja Racing-Type All-Terrain Combat Vehicle Armed/Weaponized with 7.62mm NATO Garwood Industries (GI) M134G Minigun/Gatling Gun: SXOR…</td><td>5d9fa7e2-2118-4442-99b6-537d60463a6a</td></tr></tbody></table></div>"
      ]
     },
     "metadata": {
      "application/vnd.databricks.v1+output": {
       "addedWidgets": {},
       "aggData": [],
       "aggError": "",
       "aggOverflow": false,
       "aggSchema": [],
       "aggSeriesLimitReached": false,
       "aggType": "",
       "arguments": {},
       "columnCustomDisplayInfos": {},
       "data": [
        [
         "home-decor",
         "Традиционные шведские коттеджи, обычно с красным фасадом — это настоящее воплощением идеального зимнего уюта. Они обычно оформлены очень просто и ✌PUFIK. Beautiful Interiors. On… ",
         1,
         "136k",
         "https://i.pinimg.com/originals/32/eb/72/32eb72e4fd8654c115a64528bd1f34b4.png",
         6717,
         "image",
         "PUFIK Interiors & Inspirations",
         "Local save in /data/home-decor",
         "Scandinavian Cottage,Swedish Cottage,Swedish Home Decor,Swedish Farmhouse,Swedish Style,Swedish Kitchen,Kitchen Black,Swedish House,Cozy Cottage",
         "〚 Уютные шведские коттеджи от Carina Olander 〛 ◾ Фото ◾ Идеи ◾ Дизайн",
         "bc5ab9ee-505e-44f6-92ba-677fe4fdf3e3"
        ],
        [
         "home-decor",
         "6,636 Likes, 141 Comments - The Cottage Journal (@thecottagejournal) on Instagram: “Can you say color?! 😍😍😍 We are loving the cheery vibes that these aqua blue cabinets are g… ",
         1,
         "394",
         "https://i.pinimg.com/originals/8c/17/a2/8c17a257b70780480bb89c3699363144.jpg",
         6633,
         "image",
         "Sarah Martin",
         "Local save in /data/home-decor",
         "Diy Kitchen Cabinets,Kitchen Redo,Home Decor Kitchen,New Kitchen,Home Kitchens,Kitchen Remodeling,Aqua Kitchen,Kitchen Counters,Kitchen Islands",
         "The Cottage Journal on Instagram: “Can you say color?! 😍😍😍 We are loving the cheery vibes that these aqua blue cabinets are giving. If you could paint your cabinets any…”",
         "d136f6bc-840d-44f8-bbad-115eb7e6c51e"
        ],
        [
         "christmas",
         "Features: Material:Lint Size:48ｘ18cm Quantity:1 pc Shape:Santa Claus, snowman. Elk Occasion:Christmas Description: 1. Fashion design, high quality 2. Santa Claus, snowman. Elk C… ",
         1,
         "5k",
         "https://i.pinimg.com/originals/b5/7f/21/b57f219fa89c1165b57525b8eae711da.jpg",
         1706,
         "image",
         "Wear24-7",
         "Local save in /data/christmas",
         "Merry Christmas To You,Christmas Toys,Great Christmas Gifts,Christmas Snowman,Christmas Ornaments,Holiday,Christmas Party Decorations,Christmas Themes,Decoration Party",
         "Standing Figurine Toys Xmas Santa Claus Snowman Reindeer Figure Plush Dolls Christmas Decorations Ornaments Home Indoor Table Ornaments Christmas Party Tree Hanging Decor Toys Gifts for Kids Friends…",
         "b5c8a1b5-9e90-4522-9bec-2477b698d5b7"
        ],
        [
         "christmas",
         "❤️ ❤️ MERRY CHRISTMAS ❤️ ❤️ ❤️ ❤️ Early Christmas Special:Buy 3 Get 1 Free, Buy 5 Get 2 Free,Deadline November 25. Color:GreenMaterial:Polyvinyl ChlorideItem Dimensions:LxWxH 20… ",
         1,
         "784",
         "https://i.pinimg.com/originals/ef/40/7e/ef407e9568aa46fed4162bd1fd28786e.jpg",
         1676,
         "image",
         "paupoo",
         "Local save in /data/christmas",
         "Christmas Hanging Baskets,Christmas Plants,Christmas Wreaths,Christmas Ornaments,Merry Christmas,Christmas Sale,Christmas Porch Ideas,Hanging Christmas Lights,Christmas Island",
         "PAUPOO™ Pre-lit Artificial Christmas Hanging Basket - Flocked with Mixed Decorations and White LED Lights - Frosted Berry BUY 5 GET 2 FREE(7PACKS)",
         "3ed92c2d-9cca-4ccf-ac25-44a9d8bec919"
        ],
        [
         "christmas",
         "Christmas decorating ideas for porches. Beautiful holiday decor ideas for front porches both small and large. Outdoor decorations like sleds, lanterns, Christmas trees, wreaths,… ",
         1,
         "46k",
         "https://i.pinimg.com/videos/thumbnails/originals/40/83/f5/4083f5b4971bf235f89a4784ab87271e.0000001.jpg",
         2482,
         "video",
         "Life on Summerhill | Home, Holiday Decor & DIY Website",
         "Local save in /data/christmas",
         "Diy Christmas Decorations For Home,Farmhouse Christmas Decor,Christmas Home,Christmas Holidays,Christmas Front Porches,How To Decorate For Christmas,Christmas Porch Ideas,Christmas Decorating Ideas,Large Outdoor Christmas Decorations",
         "FORNT PORCH CHRISTMAS DECORATING IDEAS",
         "08604f20-fa17-4b9a-9949-781717eca6cd"
        ],
        [
         "christmas",
         "About This Item We aim to show you accurate product information. Manufacturers, suppliers and others provide what you see here, and we have not verified it. 9ft Lighted Winter G… ",
         1,
         "5k",
         "https://i.pinimg.com/originals/ac/28/79/ac28794ec86c522658775b03e93e8cc9.jpg",
         2430,
         "image",
         "Wear24-7",
         "Local save in /data/christmas",
         "Outside Christmas Decorations,Christmas House Lights,Holiday Decor,Decorating For Christmas Outdoors,Christmas Outdoor Lights,Fireplace Mantel Christmas Decorations,Exterior Christmas Lights,Christmas Garlands,Beautiful Christmas Decorations",
         "9ft Lighted Winter Garland with Bows and Pine Accents, Indoor or Outdoor Christmas Decor",
         "7e16143b-d84a-40a3-a617-e736b728df5d"
        ],
        [
         "event-planning",
         "\"adult Surprise Birthday Cards 40th 50th 60th 70th 75th 80th 85th 90th Birthday Cards Fifty Fabulous Birthday Party Forty Birthday Invitation 50th 60th 70th 80th Surprise Birthd… ",
         1,
         "4M",
         "https://i.pinimg.com/originals/9f/a7/b1/9fa7b1fe33555b81d050e6ebf6bb8871.jpg",
         4348,
         "image",
         "Etsy",
         "Local save in /data/event-planning",
         "90th Birthday Cards,Forty Birthday,Birthday Postcards,70th Birthday Parties,Happy Birthday Messages,Surprise Birthday,Birthday Ideas,Surprise Party Invitations,Passport Wedding Invitations",
         "Surprise Birthday Cards 40th 50th 60th 70th 75th 80th 85th 90th Birthday Cards Fifty Fabulous Birthday Party Forty Birthday Invitation",
         "c25f8906-d9ab-414c-90d6-a5322f714e44"
        ],
        [
         "home-decor",
         "Description The Calligraphy Collection by Allan Copley Designs is meticulously crafted with great attention to detail. The Espresso on Kulin finish with Brushed Stainless Steel… ",
         1,
         "137",
         "https://i.pinimg.com/originals/5f/4f/9f/5f4f9ff6154aba517a852ceb967e2c11.jpg",
         6521,
         "image",
         "Your Home, Reimagined LLC",
         "Local save in /data/home-decor",
         "Glass Top End Tables,End Table Sets,Sofa End Tables,End Tables With Storage,Side Tables,Metal Furniture,Rustic Furniture,Living Room Furniture,Luxury Furniture",
         "Allan Copley Designs Calligraphy Square Glass Top End Table in Espresso Finish with Brushed Stainless Steel Accents by Allan Copley Designs - Espresso",
         "dd508c7e-4ff3-4a94-94cb-abc1327c1f58"
        ],
        [
         "home-decor",
         "Description The Calligraphy Collection by Allan Copley Designs is meticulously crafted with great attention to detail. The Espresso on Kulin finish with Brushed Stainless Steel… ",
         1,
         "137",
         "https://i.pinimg.com/originals/5f/4f/9f/5f4f9ff6154aba517a852ceb967e2c11.jpg",
         6521,
         "image",
         "Your Home, Reimagined LLC",
         "Local save in /data/home-decor",
         "Glass Top End Tables,End Table Sets,Sofa End Tables,End Tables With Storage,Side Tables,Metal Furniture,Rustic Furniture,Living Room Furniture,Luxury Furniture",
         "Allan Copley Designs Calligraphy Square Glass Top End Table in Espresso Finish with Brushed Stainless Steel Accents by Allan Copley Designs - Espresso",
         "dd508c7e-4ff3-4a94-94cb-abc1327c1f58"
        ],
        [
         "vehicles",
         "By David Crane ; defrev (at) gmail (dot) com All photos contained in this article were shot by DefenseReview.com (DR), and are copyrighted. DefenseReview.com owns the copyright… ",
         1,
         "709",
         "https://i.pinimg.com/originals/36/63/12/366312d747da1358397610a86bf21b20.jpg",
         10538,
         "image",
         "Ricky Lee",
         "Local save in /data/vehicles",
         "Army Vehicles,Armored Vehicles,Cool Trucks,Cool Cars,Amphibious Vehicle,Offroader,Bug Out Vehicle,Vehicle Wraps,Terrain Vehicle",
         "BC Customs (BCC) Search and Rescue Tactical Vehicle-5 (SRTV-5) Baja Racing-Type All-Terrain Combat Vehicle Armed/Weaponized with 7.62mm NATO Garwood Industries (GI) M134G Minigun/Gatling Gun: SXOR…",
         "5d9fa7e2-2118-4442-99b6-537d60463a6a"
        ]
       ],
       "datasetInfos": [],
       "dbfsResultPath": null,
       "isJsonSchema": true,
       "metadata": {},
       "overflow": false,
       "plotOptions": {
        "customPlotOptions": {},
        "displayType": "table",
        "pivotAggregation": null,
        "pivotColumns": null,
        "xColumns": null,
        "yColumns": null
       },
       "removedWidgets": [],
       "schema": [
        {
         "metadata": "{}",
         "name": "category",
         "type": "\"string\""
        },
        {
         "metadata": "{}",
         "name": "description",
         "type": "\"string\""
        },
        {
         "metadata": "{}",
         "name": "downloaded",
         "type": "\"long\""
        },
        {
         "metadata": "{}",
         "name": "follower_count",
         "type": "\"string\""
        },
        {
         "metadata": "{}",
         "name": "image_src",
         "type": "\"string\""
        },
        {
         "metadata": "{}",
         "name": "index",
         "type": "\"long\""
        },
        {
         "metadata": "{}",
         "name": "is_image_or_video",
         "type": "\"string\""
        },
        {
         "metadata": "{}",
         "name": "poster_name",
         "type": "\"string\""
        },
        {
         "metadata": "{}",
         "name": "save_location",
         "type": "\"string\""
        },
        {
         "metadata": "{}",
         "name": "tag_list",
         "type": "\"string\""
        },
        {
         "metadata": "{}",
         "name": "title",
         "type": "\"string\""
        },
        {
         "metadata": "{}",
         "name": "unique_id",
         "type": "\"string\""
        }
       ],
       "type": "table"
      }
     },
     "output_type": "display_data"
    },
    {
     "data": {
      "text/html": [
       "<style scoped>\n",
       "  .table-result-container {\n",
       "    max-height: 300px;\n",
       "    overflow: auto;\n",
       "  }\n",
       "  table, th, td {\n",
       "    border: 1px solid black;\n",
       "    border-collapse: collapse;\n",
       "  }\n",
       "  th, td {\n",
       "    padding: 5px;\n",
       "  }\n",
       "  th {\n",
       "    text-align: left;\n",
       "  }\n",
       "</style><div class='table-result-container'><table class='table-result'><thead style='background-color: white'><tr><th>age</th><th>date_joined</th><th>first_name</th><th>ind</th><th>last_name</th></tr></thead><tbody><tr><td>27</td><td>2016-03-08 13:38:37</td><td>Christopher</td><td>2015</td><td>Bradshaw</td></tr><tr><td>59</td><td>2017-05-12 21:22:17</td><td>Alexander</td><td>10673</td><td>Cervantes</td></tr><tr><td>48</td><td>2016-02-27 16:57:44</td><td>Christopher</td><td>1857</td><td>Hamilton</td></tr><tr><td>45</td><td>2016-09-15 06:02:53</td><td>Christopher</td><td>10020</td><td>Hawkins</td></tr><tr><td>35</td><td>2015-10-22 22:42:23</td><td>Christopher</td><td>2041</td><td>Campbell</td></tr><tr><td>48</td><td>2016-06-13 17:09:14</td><td>Christopher</td><td>7031</td><td>Anderson</td></tr><tr><td>39</td><td>2016-06-29 20:43:59</td><td>Christina</td><td>6398</td><td>Davenport</td></tr><tr><td>20</td><td>2015-10-23 04:13:23</td><td>Alexandria</td><td>3599</td><td>Alvarado</td></tr><tr><td>20</td><td>2015-10-23 04:13:23</td><td>Alexandria</td><td>4256</td><td>Alvarado</td></tr><tr><td>44</td><td>2016-12-18 16:05:39</td><td>Michelle</td><td>1901</td><td>Richardson</td></tr></tbody></table></div>"
      ]
     },
     "metadata": {
      "application/vnd.databricks.v1+output": {
       "addedWidgets": {},
       "aggData": [],
       "aggError": "",
       "aggOverflow": false,
       "aggSchema": [],
       "aggSeriesLimitReached": false,
       "aggType": "",
       "arguments": {},
       "columnCustomDisplayInfos": {},
       "data": [
        [
         27,
         "2016-03-08 13:38:37",
         "Christopher",
         2015,
         "Bradshaw"
        ],
        [
         59,
         "2017-05-12 21:22:17",
         "Alexander",
         10673,
         "Cervantes"
        ],
        [
         48,
         "2016-02-27 16:57:44",
         "Christopher",
         1857,
         "Hamilton"
        ],
        [
         45,
         "2016-09-15 06:02:53",
         "Christopher",
         10020,
         "Hawkins"
        ],
        [
         35,
         "2015-10-22 22:42:23",
         "Christopher",
         2041,
         "Campbell"
        ],
        [
         48,
         "2016-06-13 17:09:14",
         "Christopher",
         7031,
         "Anderson"
        ],
        [
         39,
         "2016-06-29 20:43:59",
         "Christina",
         6398,
         "Davenport"
        ],
        [
         20,
         "2015-10-23 04:13:23",
         "Alexandria",
         3599,
         "Alvarado"
        ],
        [
         20,
         "2015-10-23 04:13:23",
         "Alexandria",
         4256,
         "Alvarado"
        ],
        [
         44,
         "2016-12-18 16:05:39",
         "Michelle",
         1901,
         "Richardson"
        ]
       ],
       "datasetInfos": [],
       "dbfsResultPath": null,
       "isJsonSchema": true,
       "metadata": {},
       "overflow": false,
       "plotOptions": {
        "customPlotOptions": {},
        "displayType": "table",
        "pivotAggregation": null,
        "pivotColumns": null,
        "xColumns": null,
        "yColumns": null
       },
       "removedWidgets": [],
       "schema": [
        {
         "metadata": "{}",
         "name": "age",
         "type": "\"long\""
        },
        {
         "metadata": "{}",
         "name": "date_joined",
         "type": "\"string\""
        },
        {
         "metadata": "{}",
         "name": "first_name",
         "type": "\"string\""
        },
        {
         "metadata": "{}",
         "name": "ind",
         "type": "\"long\""
        },
        {
         "metadata": "{}",
         "name": "last_name",
         "type": "\"string\""
        }
       ],
       "type": "table"
      }
     },
     "output_type": "display_data"
    }
   ],
   "source": [
    "topics = dbutils.fs.ls(\"/mnt/user-0a60b9a8a831-bucket/topics\")\n",
    "\n",
    "# creates dataframes based on topic names\n",
    "for item in topics:\n",
    "  topic = (item.name)\n",
    "  df_name = item.name.split(\".\", 1)[1].split(\"/\", 1)[0]\n",
    "\n",
    "  # Asterisk(*) indicates reading all the content of the specified file that have .json extension\n",
    "  file_location = f\"/mnt/user-0a60b9a8a831-bucket/topics/{topic}partition=0/*.json\"\n",
    "  file_type = \"json\"\n",
    "  # Ask Spark to infer the schema\n",
    "  infer_schema = \"true\"\n",
    "  # Read in JSONs from mounted S3 bucket and dynamically generated dataframe name\n",
    "  exec(f\"df_{df_name} = spark.read.format(file_type).option('inferSchema',infer_schema).load(file_location)\")\n",
    "\n",
    "  # Display Spark dataframe to check its content\n",
    "  display(eval(f\"df_{df_name}\").limit(10))"
   ]
  },
  {
   "cell_type": "markdown",
   "metadata": {
    "application/vnd.databricks.v1+cell": {
     "cellMetadata": {},
     "inputWidgets": {},
     "nuid": "69c3fe3e-ba60-478e-9cda-1696f4d0ceae",
     "showTitle": false,
     "title": ""
    }
   },
   "source": [
    "### Data cleaning "
   ]
  },
  {
   "cell_type": "code",
   "execution_count": null,
   "metadata": {
    "application/vnd.databricks.v1+cell": {
     "cellMetadata": {
      "byteLimit": 2048000,
      "rowLimit": 10000
     },
     "inputWidgets": {},
     "nuid": "4be44f49-24d9-4963-9499-8f0b03f8e63e",
     "showTitle": false,
     "title": " "
    }
   },
   "outputs": [
    {
     "data": {
      "text/html": [
       "<style scoped>\n",
       "  .ansiout {\n",
       "    display: block;\n",
       "    unicode-bidi: embed;\n",
       "    white-space: pre-wrap;\n",
       "    word-wrap: break-word;\n",
       "    word-break: break-all;\n",
       "    font-family: \"Menlo\", \"Monaco\", \"Consolas\", \"Ubuntu Mono\", \"Source Code Pro\", monospace;\n",
       "    font-size: 13px;\n",
       "    color: #555;\n",
       "    margin-left: 4px;\n",
       "    line-height: 19px;\n",
       "  }\n",
       "</style>\n",
       "<div class=\"ansiout\"></div>"
      ]
     },
     "metadata": {
      "application/vnd.databricks.v1+output": {
       "addedWidgets": {},
       "arguments": {},
       "data": "<div class=\"ansiout\"></div>",
       "datasetInfos": [],
       "metadata": {},
       "removedWidgets": [],
       "type": "html"
      }
     },
     "output_type": "display_data"
    }
   ],
   "source": [
    "df_pin = clean_df_pin(df_pin)\n",
    "df_geo = clean_df_geo(df_geo)\n",
    "df_user = clean_df_user(df_user)"
   ]
  },
  {
   "cell_type": "markdown",
   "metadata": {
    "application/vnd.databricks.v1+cell": {
     "cellMetadata": {
      "byteLimit": 2048000,
      "rowLimit": 10000
     },
     "inputWidgets": {},
     "nuid": "1e37f7e1-29f0-4f45-baa9-ee60d9781460",
     "showTitle": false,
     "title": "Untitled7"
    }
   },
   "source": [
    "### Data querying\n"
   ]
  },
  {
   "cell_type": "markdown",
   "metadata": {
    "application/vnd.databricks.v1+cell": {
     "cellMetadata": {},
     "inputWidgets": {},
     "nuid": "292d8f96-ac30-48a9-9ca5-9464c1199df7",
     "showTitle": false,
     "title": ""
    }
   },
   "source": [
    "#### Find the most popular Pinterest category people post to based on their country."
   ]
  },
  {
   "cell_type": "code",
   "execution_count": null,
   "metadata": {
    "application/vnd.databricks.v1+cell": {
     "cellMetadata": {
      "byteLimit": 2048000,
      "rowLimit": 10000
     },
     "inputWidgets": {},
     "nuid": "783d9b33-e6c4-4c06-926f-3a31e231a654",
     "showTitle": false,
     "title": ""
    }
   },
   "outputs": [
    {
     "data": {
      "text/html": [
       "<style scoped>\n",
       "  .table-result-container {\n",
       "    max-height: 300px;\n",
       "    overflow: auto;\n",
       "  }\n",
       "  table, th, td {\n",
       "    border: 1px solid black;\n",
       "    border-collapse: collapse;\n",
       "  }\n",
       "  th, td {\n",
       "    padding: 5px;\n",
       "  }\n",
       "  th {\n",
       "    text-align: left;\n",
       "  }\n",
       "</style><div class='table-result-container'><table class='table-result'><thead style='background-color: white'><tr><th>country</th><th>category</th><th>category_count</th></tr></thead><tbody><tr><td>Afghanistan</td><td>education</td><td>9</td></tr><tr><td>Albania</td><td>art</td><td>14</td></tr><tr><td>Algeria</td><td>quotes</td><td>19</td></tr><tr><td>American Samoa</td><td>education</td><td>8</td></tr><tr><td>Andorra</td><td>tattoos</td><td>7</td></tr><tr><td>Angola</td><td>education</td><td>4</td></tr><tr><td>Anguilla</td><td>diy-and-crafts</td><td>4</td></tr><tr><td>Antarctica (the territory South of 60 deg S)</td><td>tattoos</td><td>4</td></tr><tr><td>Antigua and Barbuda</td><td>christmas</td><td>6</td></tr><tr><td>Argentina</td><td>tattoos</td><td>12</td></tr><tr><td>Armenia</td><td>art</td><td>4</td></tr><tr><td>Aruba</td><td>art</td><td>7</td></tr><tr><td>Australia</td><td>christmas</td><td>5</td></tr><tr><td>Austria</td><td>travel</td><td>3</td></tr><tr><td>Azerbaijan</td><td>diy-and-crafts</td><td>5</td></tr><tr><td>Bahamas</td><td>art</td><td>9</td></tr><tr><td>Bahrain</td><td>travel</td><td>5</td></tr><tr><td>Bangladesh</td><td>christmas</td><td>5</td></tr><tr><td>Barbados</td><td>education</td><td>2</td></tr><tr><td>Belarus</td><td>travel</td><td>2</td></tr></tbody></table></div>"
      ]
     },
     "metadata": {
      "application/vnd.databricks.v1+output": {
       "addedWidgets": {},
       "aggData": [],
       "aggError": "",
       "aggOverflow": false,
       "aggSchema": [],
       "aggSeriesLimitReached": false,
       "aggType": "",
       "arguments": {},
       "columnCustomDisplayInfos": {},
       "data": [
        [
         "Afghanistan",
         "education",
         9
        ],
        [
         "Albania",
         "art",
         14
        ],
        [
         "Algeria",
         "quotes",
         19
        ],
        [
         "American Samoa",
         "education",
         8
        ],
        [
         "Andorra",
         "tattoos",
         7
        ],
        [
         "Angola",
         "education",
         4
        ],
        [
         "Anguilla",
         "diy-and-crafts",
         4
        ],
        [
         "Antarctica (the territory South of 60 deg S)",
         "tattoos",
         4
        ],
        [
         "Antigua and Barbuda",
         "christmas",
         6
        ],
        [
         "Argentina",
         "tattoos",
         12
        ],
        [
         "Armenia",
         "art",
         4
        ],
        [
         "Aruba",
         "art",
         7
        ],
        [
         "Australia",
         "christmas",
         5
        ],
        [
         "Austria",
         "travel",
         3
        ],
        [
         "Azerbaijan",
         "diy-and-crafts",
         5
        ],
        [
         "Bahamas",
         "art",
         9
        ],
        [
         "Bahrain",
         "travel",
         5
        ],
        [
         "Bangladesh",
         "christmas",
         5
        ],
        [
         "Barbados",
         "education",
         2
        ],
        [
         "Belarus",
         "travel",
         2
        ]
       ],
       "datasetInfos": [],
       "dbfsResultPath": null,
       "isJsonSchema": true,
       "metadata": {},
       "overflow": false,
       "plotOptions": {
        "customPlotOptions": {},
        "displayType": "table",
        "pivotAggregation": null,
        "pivotColumns": null,
        "xColumns": null,
        "yColumns": null
       },
       "removedWidgets": [],
       "schema": [
        {
         "metadata": "{}",
         "name": "country",
         "type": "\"string\""
        },
        {
         "metadata": "{}",
         "name": "category",
         "type": "\"string\""
        },
        {
         "metadata": "{}",
         "name": "category_count",
         "type": "\"long\""
        }
       ],
       "type": "table"
      }
     },
     "output_type": "display_data"
    }
   ],
   "source": [
    "# performs inner join operation based on the `ind` column\n",
    "combined_pin_geo = df_pin.join(df_geo, df_geo[\"ind\"] == df_pin[\"ind\"], how=\"inner\") \n",
    "\n",
    "# creates window function which partitions by each country and then orders the categories from highest to lowest\n",
    "windowSpec = Window.partitionBy(\"country\").orderBy(desc(\"category_count\"))\n",
    "\n",
    "# Group country and then by category, then count the number of each category (for each country) and name column \n",
    "# category_count. Create a new column and apply the window function, numbering the rows (ranking) for each window, \n",
    "# then filter for only rank 1 for each window. Remove the rank_cat column. \n",
    "combined_pin_geo.groupBy(\"country\", \"category\").agg(count(\"category\").alias(\"category_count\")) \\\n",
    "    .withColumn(\"rank_cat\", row_number().over(windowSpec)).filter(col(\"rank_cat\") == 1) \\\n",
    "    .drop(\"rank_cat\").limit(20).display() # Output of 210 rows limited to 20 for notebook readability on GitHub.  "
   ]
  },
  {
   "cell_type": "markdown",
   "metadata": {
    "application/vnd.databricks.v1+cell": {
     "cellMetadata": {},
     "inputWidgets": {},
     "nuid": "3a008c4c-5610-4b14-b4d2-58414f2e439b",
     "showTitle": false,
     "title": ""
    }
   },
   "source": [
    "#### Find the most popular category in each year between 2018 and 2022."
   ]
  },
  {
   "cell_type": "code",
   "execution_count": null,
   "metadata": {
    "application/vnd.databricks.v1+cell": {
     "cellMetadata": {
      "byteLimit": 2048000,
      "rowLimit": 10000
     },
     "inputWidgets": {},
     "nuid": "083ff403-a46c-4d3b-9653-a5a61a1d6dce",
     "showTitle": false,
     "title": ""
    }
   },
   "outputs": [
    {
     "data": {
      "text/html": [
       "<style scoped>\n",
       "  .table-result-container {\n",
       "    max-height: 300px;\n",
       "    overflow: auto;\n",
       "  }\n",
       "  table, th, td {\n",
       "    border: 1px solid black;\n",
       "    border-collapse: collapse;\n",
       "  }\n",
       "  th, td {\n",
       "    padding: 5px;\n",
       "  }\n",
       "  th {\n",
       "    text-align: left;\n",
       "  }\n",
       "</style><div class='table-result-container'><table class='table-result'><thead style='background-color: white'><tr><th>post_year</th><th>category</th><th>category_count</th></tr></thead><tbody><tr><td>2018</td><td>diy-and-crafts</td><td>25</td></tr><tr><td>2019</td><td>diy-and-crafts</td><td>19</td></tr><tr><td>2019</td><td>travel</td><td>19</td></tr><tr><td>2020</td><td>home-decor</td><td>22</td></tr><tr><td>2021</td><td>art</td><td>33</td></tr><tr><td>2022</td><td>christmas</td><td>27</td></tr></tbody></table></div>"
      ]
     },
     "metadata": {
      "application/vnd.databricks.v1+output": {
       "addedWidgets": {},
       "aggData": [],
       "aggError": "",
       "aggOverflow": false,
       "aggSchema": [],
       "aggSeriesLimitReached": false,
       "aggType": "",
       "arguments": {},
       "columnCustomDisplayInfos": {},
       "data": [
        [
         2018,
         "diy-and-crafts",
         25
        ],
        [
         2019,
         "diy-and-crafts",
         19
        ],
        [
         2019,
         "travel",
         19
        ],
        [
         2020,
         "home-decor",
         22
        ],
        [
         2021,
         "art",
         33
        ],
        [
         2022,
         "christmas",
         27
        ]
       ],
       "datasetInfos": [],
       "dbfsResultPath": null,
       "isJsonSchema": true,
       "metadata": {},
       "overflow": false,
       "plotOptions": {
        "customPlotOptions": {},
        "displayType": "table",
        "pivotAggregation": null,
        "pivotColumns": null,
        "xColumns": null,
        "yColumns": null
       },
       "removedWidgets": [],
       "schema": [
        {
         "metadata": "{}",
         "name": "post_year",
         "type": "\"integer\""
        },
        {
         "metadata": "{}",
         "name": "category",
         "type": "\"string\""
        },
        {
         "metadata": "{}",
         "name": "category_count",
         "type": "\"long\""
        }
       ],
       "type": "table"
      }
     },
     "output_type": "display_data"
    }
   ],
   "source": [
    "# Create a window specification for partitioning by post_year and ordering by category_count in descending order.\n",
    "window_spec = Window.partitionBy(\"post_year\").orderBy(col(\"category_count\").desc())\n",
    "\n",
    "# Filter the data by year between 2018 and 2022, group by post_year and category, count the number of each category, \n",
    "# and rank them using the window_spec. Filter for only rank 1 (most common) for each year and drop the rank column. \n",
    "combined_pin_geo.withColumn(\"post_year\", year(\"timestamp\")) \\\n",
    "    .filter((col(\"post_year\") >= 2018) & (col(\"post_year\") <= 2022)) \\\n",
    "    .groupBy(\"post_year\", \"category\").agg(count(\"category\").alias(\"category_count\")) \\\n",
    "    .withColumn(\"rank\", rank().over(window_spec)).filter(col(\"rank\") == 1).drop(\"rank\") \\\n",
    "    .orderBy(col(\"post_year\")).display()"
   ]
  },
  {
   "cell_type": "markdown",
   "metadata": {
    "application/vnd.databricks.v1+cell": {
     "cellMetadata": {},
     "inputWidgets": {},
     "nuid": "fc827ee0-f0e0-4d00-80d8-63c4b35ac072",
     "showTitle": false,
     "title": ""
    }
   },
   "source": [
    "#### Find the user with most followers in each country"
   ]
  },
  {
   "cell_type": "code",
   "execution_count": null,
   "metadata": {
    "application/vnd.databricks.v1+cell": {
     "cellMetadata": {
      "byteLimit": 2048000,
      "rowLimit": 10000
     },
     "inputWidgets": {},
     "nuid": "ba038cbd-1798-49ff-8acf-be5e530acc0e",
     "showTitle": false,
     "title": ""
    }
   },
   "outputs": [
    {
     "data": {
      "text/html": [
       "<style scoped>\n",
       "  .table-result-container {\n",
       "    max-height: 300px;\n",
       "    overflow: auto;\n",
       "  }\n",
       "  table, th, td {\n",
       "    border: 1px solid black;\n",
       "    border-collapse: collapse;\n",
       "  }\n",
       "  th, td {\n",
       "    padding: 5px;\n",
       "  }\n",
       "  th {\n",
       "    text-align: left;\n",
       "  }\n",
       "</style><div class='table-result-container'><table class='table-result'><thead style='background-color: white'><tr><th>country</th><th>poster_name</th><th>follower_count</th></tr></thead><tbody><tr><td>American Samoa</td><td>Mamas Uncut</td><td>8000000</td></tr></tbody></table></div>"
      ]
     },
     "metadata": {
      "application/vnd.databricks.v1+output": {
       "addedWidgets": {},
       "aggData": [],
       "aggError": "",
       "aggOverflow": false,
       "aggSchema": [],
       "aggSeriesLimitReached": false,
       "aggType": "",
       "arguments": {},
       "columnCustomDisplayInfos": {},
       "data": [
        [
         "American Samoa",
         "Mamas Uncut",
         8000000
        ]
       ],
       "datasetInfos": [],
       "dbfsResultPath": null,
       "isJsonSchema": true,
       "metadata": {},
       "overflow": false,
       "plotOptions": {
        "customPlotOptions": {},
        "displayType": "table",
        "pivotAggregation": null,
        "pivotColumns": null,
        "xColumns": null,
        "yColumns": null
       },
       "removedWidgets": [],
       "schema": [
        {
         "metadata": "{}",
         "name": "country",
         "type": "\"string\""
        },
        {
         "metadata": "{}",
         "name": "poster_name",
         "type": "\"string\""
        },
        {
         "metadata": "{}",
         "name": "follower_count",
         "type": "\"integer\""
        }
       ],
       "type": "table"
      }
     },
     "output_type": "display_data"
    }
   ],
   "source": [
    "# create a window specification for partitioning by country and ordering by follower_count in descending order.\n",
    "window_spec = Window.partitionBy(\"country\").orderBy(desc(\"follower_count\")) \n",
    "\n",
    "# ranking follower count for each country and poster (via window_spec), and filtering to include only rank 1, \n",
    "# then dropping rank column.\n",
    "poster_by_country_rank = combined_pin_geo.select(\"country\",\"poster_name\",\"follower_count\") \\\n",
    "    .withColumn(\"rank\", rank().over(window_spec)).filter(col(\"rank\") == 1) \\\n",
    "    .drop(\"rank\")\n",
    "\n",
    "# Based on the above query, find the country with the user with most followers. \n",
    "poster_by_country_rank.groupBy(\"country\",\"poster_name\").agg(max(\"follower_count\").alias(\"follower_count\")) \\\n",
    "    .orderBy(desc(\"follower_count\")).limit(1).display()"
   ]
  },
  {
   "cell_type": "markdown",
   "metadata": {
    "application/vnd.databricks.v1+cell": {
     "cellMetadata": {},
     "inputWidgets": {},
     "nuid": "75cf2c51-3538-4793-a326-4114004731f7",
     "showTitle": false,
     "title": ""
    }
   },
   "source": [
    "#### What is the most popular category people post to for different age groups?"
   ]
  },
  {
   "cell_type": "code",
   "execution_count": null,
   "metadata": {
    "application/vnd.databricks.v1+cell": {
     "cellMetadata": {
      "byteLimit": 2048000,
      "rowLimit": 10000
     },
     "inputWidgets": {},
     "nuid": "20e15d5b-a243-446e-9261-355b4bac1604",
     "showTitle": false,
     "title": ""
    }
   },
   "outputs": [
    {
     "data": {
      "text/html": [
       "<style scoped>\n",
       "  .table-result-container {\n",
       "    max-height: 300px;\n",
       "    overflow: auto;\n",
       "  }\n",
       "  table, th, td {\n",
       "    border: 1px solid black;\n",
       "    border-collapse: collapse;\n",
       "  }\n",
       "  th, td {\n",
       "    padding: 5px;\n",
       "  }\n",
       "  th {\n",
       "    text-align: left;\n",
       "  }\n",
       "</style><div class='table-result-container'><table class='table-result'><thead style='background-color: white'><tr><th>age_group</th><th>category</th><th>category_count</th></tr></thead><tbody><tr><td>18-24</td><td>art</td><td>68</td></tr><tr><td>25-35</td><td>travel</td><td>31</td></tr><tr><td>36-50</td><td>travel</td><td>28</td></tr><tr><td>50+</td><td>christmas</td><td>10</td></tr><tr><td>50+</td><td>mens-fashion</td><td>10</td></tr></tbody></table></div>"
      ]
     },
     "metadata": {
      "application/vnd.databricks.v1+output": {
       "addedWidgets": {},
       "aggData": [],
       "aggError": "",
       "aggOverflow": false,
       "aggSchema": [],
       "aggSeriesLimitReached": false,
       "aggType": "",
       "arguments": {},
       "columnCustomDisplayInfos": {},
       "data": [
        [
         "18-24",
         "art",
         68
        ],
        [
         "25-35",
         "travel",
         31
        ],
        [
         "36-50",
         "travel",
         28
        ],
        [
         "50+",
         "christmas",
         10
        ],
        [
         "50+",
         "mens-fashion",
         10
        ]
       ],
       "datasetInfos": [],
       "dbfsResultPath": null,
       "isJsonSchema": true,
       "metadata": {},
       "overflow": false,
       "plotOptions": {
        "customPlotOptions": {},
        "displayType": "table",
        "pivotAggregation": null,
        "pivotColumns": null,
        "xColumns": null,
        "yColumns": null
       },
       "removedWidgets": [],
       "schema": [
        {
         "metadata": "{}",
         "name": "age_group",
         "type": "\"string\""
        },
        {
         "metadata": "{}",
         "name": "category",
         "type": "\"string\""
        },
        {
         "metadata": "{}",
         "name": "category_count",
         "type": "\"long\""
        }
       ],
       "type": "table"
      }
     },
     "output_type": "display_data"
    }
   ],
   "source": [
    "# Combine df_pin and df_user dataframes\n",
    "combined_pin_user = df_pin.join(df_user, df_pin[\"ind\"] == df_user[\"ind\"] , how=\"inner\")\n",
    "\n",
    "# Discretise age column into groups in a new column called age_group. Save to dataframe for later queries. \n",
    "combined_pin_user = combined_pin_user.withColumn(\"age_group\", \n",
    "        when(col(\"age\").between(18, 24), \"18-24\"). \\\n",
    "        when(col(\"age\").between(25, 35), \"25-35\"). \\\n",
    "        when(col(\"age\").between(36, 50), \"36-50\"). \\\n",
    "        otherwise(\"50+\")\n",
    "                  )\n",
    "\n",
    "# Create a window specification for partitioning by age_group and ordering by category_count in descending order.\n",
    "window_spec = Window.partitionBy(\"age_group\").orderBy(desc(\"category_count\"))\n",
    "\n",
    "# Count all categories per age group, then rank (via window_spec) and filter for rank 1 only for each age group. \n",
    "# Drop rank column.  \n",
    "combined_pin_user.groupBy(\"age_group\", \"category\").agg(count(\"category\").alias(\"category_count\")) \\\n",
    "    .withColumn(\"rank\", rank().over(window_spec)).filter(col(\"rank\") == 1) \\\n",
    "        .drop(\"rank\").display()"
   ]
  },
  {
   "cell_type": "markdown",
   "metadata": {
    "application/vnd.databricks.v1+cell": {
     "cellMetadata": {},
     "inputWidgets": {},
     "nuid": "8cfea5f0-5642-411e-b130-f21236fab593",
     "showTitle": false,
     "title": ""
    }
   },
   "source": [
    "#### What is the median follower count for users in different age groups?"
   ]
  },
  {
   "cell_type": "code",
   "execution_count": null,
   "metadata": {
    "application/vnd.databricks.v1+cell": {
     "cellMetadata": {
      "byteLimit": 2048000,
      "rowLimit": 10000
     },
     "inputWidgets": {},
     "nuid": "17a86de1-7705-46fd-829e-d7574165d95c",
     "showTitle": false,
     "title": ""
    }
   },
   "outputs": [
    {
     "data": {
      "text/html": [
       "<style scoped>\n",
       "  .table-result-container {\n",
       "    max-height: 300px;\n",
       "    overflow: auto;\n",
       "  }\n",
       "  table, th, td {\n",
       "    border: 1px solid black;\n",
       "    border-collapse: collapse;\n",
       "  }\n",
       "  th, td {\n",
       "    padding: 5px;\n",
       "  }\n",
       "  th {\n",
       "    text-align: left;\n",
       "  }\n",
       "</style><div class='table-result-container'><table class='table-result'><thead style='background-color: white'><tr><th>age_group</th><th>median_follower_count</th></tr></thead><tbody><tr><td>18-24</td><td>103000</td></tr><tr><td>25-35</td><td>24000</td></tr><tr><td>36-50</td><td>7000</td></tr><tr><td>50+</td><td>1000</td></tr></tbody></table></div>"
      ]
     },
     "metadata": {
      "application/vnd.databricks.v1+output": {
       "addedWidgets": {},
       "aggData": [],
       "aggError": "",
       "aggOverflow": false,
       "aggSchema": [],
       "aggSeriesLimitReached": false,
       "aggType": "",
       "arguments": {},
       "columnCustomDisplayInfos": {},
       "data": [
        [
         "18-24",
         103000
        ],
        [
         "25-35",
         24000
        ],
        [
         "36-50",
         7000
        ],
        [
         "50+",
         1000
        ]
       ],
       "datasetInfos": [],
       "dbfsResultPath": null,
       "isJsonSchema": true,
       "metadata": {},
       "overflow": false,
       "plotOptions": {
        "customPlotOptions": {},
        "displayType": "table",
        "pivotAggregation": null,
        "pivotColumns": null,
        "xColumns": null,
        "yColumns": null
       },
       "removedWidgets": [],
       "schema": [
        {
         "metadata": "{}",
         "name": "age_group",
         "type": "\"string\""
        },
        {
         "metadata": "{}",
         "name": "median_follower_count",
         "type": "\"integer\""
        }
       ],
       "type": "table"
      }
     },
     "output_type": "display_data"
    }
   ],
   "source": [
    "# Creates a new column median_follower_count, by grouping age groups and finding the median value. \n",
    "# Then ordered by age_group. \n",
    "combined_pin_user.groupBy(\"age_group\").agg(percentile_approx(\"follower_count\" , 0.5).alias(\"median_follower_count\")) \\\n",
    "    .orderBy(\"age_group\").display()"
   ]
  },
  {
   "cell_type": "markdown",
   "metadata": {
    "application/vnd.databricks.v1+cell": {
     "cellMetadata": {},
     "inputWidgets": {},
     "nuid": "6e1757f3-e300-46d2-8c50-044d0bd72d80",
     "showTitle": false,
     "title": ""
    }
   },
   "source": [
    "#### Find how many users have joined each year between 2015 and 2020"
   ]
  },
  {
   "cell_type": "code",
   "execution_count": null,
   "metadata": {
    "application/vnd.databricks.v1+cell": {
     "cellMetadata": {
      "byteLimit": 2048000,
      "rowLimit": 10000
     },
     "inputWidgets": {},
     "nuid": "d5bfcf4f-23d9-42ab-89b0-b52e5500bcbc",
     "showTitle": false,
     "title": ""
    }
   },
   "outputs": [
    {
     "data": {
      "text/html": [
       "<style scoped>\n",
       "  .table-result-container {\n",
       "    max-height: 300px;\n",
       "    overflow: auto;\n",
       "  }\n",
       "  table, th, td {\n",
       "    border: 1px solid black;\n",
       "    border-collapse: collapse;\n",
       "  }\n",
       "  th, td {\n",
       "    padding: 5px;\n",
       "  }\n",
       "  th {\n",
       "    text-align: left;\n",
       "  }\n",
       "</style><div class='table-result-container'><table class='table-result'><thead style='background-color: white'><tr><th>post_year</th><th>number_users_joined</th></tr></thead><tbody><tr><td>2015</td><td>394</td></tr><tr><td>2016</td><td>447</td></tr><tr><td>2017</td><td>157</td></tr></tbody></table></div>"
      ]
     },
     "metadata": {
      "application/vnd.databricks.v1+output": {
       "addedWidgets": {},
       "aggData": [],
       "aggError": "",
       "aggOverflow": false,
       "aggSchema": [],
       "aggSeriesLimitReached": false,
       "aggType": "",
       "arguments": {},
       "columnCustomDisplayInfos": {},
       "data": [
        [
         2015,
         394
        ],
        [
         2016,
         447
        ],
        [
         2017,
         157
        ]
       ],
       "datasetInfos": [],
       "dbfsResultPath": null,
       "isJsonSchema": true,
       "metadata": {},
       "overflow": false,
       "plotOptions": {
        "customPlotOptions": {},
        "displayType": "table",
        "pivotAggregation": null,
        "pivotColumns": null,
        "xColumns": null,
        "yColumns": null
       },
       "removedWidgets": [],
       "schema": [
        {
         "metadata": "{}",
         "name": "post_year",
         "type": "\"integer\""
        },
        {
         "metadata": "{}",
         "name": "number_users_joined",
         "type": "\"long\""
        }
       ],
       "type": "table"
      }
     },
     "output_type": "display_data"
    }
   ],
   "source": [
    "# Creates new column that contains only the year from date_joined column and filters for 2015 to 2020. Groups by \n",
    "# post year and counts post_year to determine number of users joined. \n",
    "df_user.withColumn(\"post_year\", year(\"date_joined\")) \\\n",
    "    .filter((col(\"post_year\") <= 2020) & (col(\"post_year\") >= 2015)) \\\n",
    "    .groupBy(\"post_year\").agg(count(\"post_year\").alias(\"number_users_joined\")).display()"
   ]
  },
  {
   "cell_type": "markdown",
   "metadata": {
    "application/vnd.databricks.v1+cell": {
     "cellMetadata": {},
     "inputWidgets": {},
     "nuid": "8d8cc789-d23e-4072-a540-1756a6006d19",
     "showTitle": false,
     "title": ""
    }
   },
   "source": [
    "#### Find the median follower count of users based on their joining year between 2015 and 2020."
   ]
  },
  {
   "cell_type": "code",
   "execution_count": null,
   "metadata": {
    "application/vnd.databricks.v1+cell": {
     "cellMetadata": {
      "byteLimit": 2048000,
      "rowLimit": 10000
     },
     "inputWidgets": {},
     "nuid": "9660ecec-12eb-4381-abaf-86b5a19b7f92",
     "showTitle": false,
     "title": ""
    }
   },
   "outputs": [
    {
     "data": {
      "text/html": [
       "<style scoped>\n",
       "  .table-result-container {\n",
       "    max-height: 300px;\n",
       "    overflow: auto;\n",
       "  }\n",
       "  table, th, td {\n",
       "    border: 1px solid black;\n",
       "    border-collapse: collapse;\n",
       "  }\n",
       "  th, td {\n",
       "    padding: 5px;\n",
       "  }\n",
       "  th {\n",
       "    text-align: left;\n",
       "  }\n",
       "</style><div class='table-result-container'><table class='table-result'><thead style='background-color: white'><tr><th>post_year</th><th>median_follower_count</th></tr></thead><tbody><tr><td>2015</td><td>119000</td></tr><tr><td>2016</td><td>21000</td></tr><tr><td>2017</td><td>2000</td></tr></tbody></table></div>"
      ]
     },
     "metadata": {
      "application/vnd.databricks.v1+output": {
       "addedWidgets": {},
       "aggData": [],
       "aggError": "",
       "aggOverflow": false,
       "aggSchema": [],
       "aggSeriesLimitReached": false,
       "aggType": "",
       "arguments": {},
       "columnCustomDisplayInfos": {},
       "data": [
        [
         2015,
         119000
        ],
        [
         2016,
         21000
        ],
        [
         2017,
         2000
        ]
       ],
       "datasetInfos": [],
       "dbfsResultPath": null,
       "isJsonSchema": true,
       "metadata": {},
       "overflow": false,
       "plotOptions": {
        "customPlotOptions": {},
        "displayType": "table",
        "pivotAggregation": null,
        "pivotColumns": null,
        "xColumns": null,
        "yColumns": null
       },
       "removedWidgets": [],
       "schema": [
        {
         "metadata": "{}",
         "name": "post_year",
         "type": "\"integer\""
        },
        {
         "metadata": "{}",
         "name": "median_follower_count",
         "type": "\"integer\""
        }
       ],
       "type": "table"
      }
     },
     "output_type": "display_data"
    }
   ],
   "source": [
    "#  Creates new column post_year,that contains only the year from the date_joined column and sets filters from 2015 to 2020.\n",
    "#  Groups by post_year and finds median follower_count for each year. \n",
    "combined_pin_user.withColumn(\"post_year\", year(\"date_joined\")) \\\n",
    "    .filter((col(\"post_year\") <= 2020) & (col(\"post_year\") >= 2015)) \\\n",
    "    .groupBy(\"post_year\").agg(percentile_approx(\"follower_count\", 0.5).alias(\"median_follower_count\")).display()"
   ]
  },
  {
   "cell_type": "markdown",
   "metadata": {
    "application/vnd.databricks.v1+cell": {
     "cellMetadata": {},
     "inputWidgets": {},
     "nuid": "a402dd2a-7e5b-40a9-9bf1-3e4085014a34",
     "showTitle": false,
     "title": ""
    }
   },
   "source": [
    "#### Find the median follower count of users based on their joining year and age group for 2015 to 2020.  "
   ]
  },
  {
   "cell_type": "code",
   "execution_count": null,
   "metadata": {
    "application/vnd.databricks.v1+cell": {
     "cellMetadata": {
      "byteLimit": 2048000,
      "rowLimit": 10000
     },
     "inputWidgets": {},
     "nuid": "e3191897-5ff3-4826-afae-27cdc792db5e",
     "showTitle": false,
     "title": ""
    }
   },
   "outputs": [
    {
     "data": {
      "text/html": [
       "<style scoped>\n",
       "  .table-result-container {\n",
       "    max-height: 300px;\n",
       "    overflow: auto;\n",
       "  }\n",
       "  table, th, td {\n",
       "    border: 1px solid black;\n",
       "    border-collapse: collapse;\n",
       "  }\n",
       "  th, td {\n",
       "    padding: 5px;\n",
       "  }\n",
       "  th {\n",
       "    text-align: left;\n",
       "  }\n",
       "</style><div class='table-result-container'><table class='table-result'><thead style='background-color: white'><tr><th>age_group</th><th>post_year</th><th>median_follower_count</th></tr></thead><tbody><tr><td>18-24</td><td>2015</td><td>221000</td></tr><tr><td>18-24</td><td>2016</td><td>36000</td></tr><tr><td>18-24</td><td>2017</td><td>18000</td></tr><tr><td>25-35</td><td>2015</td><td>42000</td></tr><tr><td>25-35</td><td>2016</td><td>24000</td></tr><tr><td>25-35</td><td>2017</td><td>1000</td></tr><tr><td>36-50</td><td>2015</td><td>10000</td></tr><tr><td>36-50</td><td>2016</td><td>9000</td></tr><tr><td>36-50</td><td>2017</td><td>3000</td></tr><tr><td>50+</td><td>2015</td><td>1000</td></tr><tr><td>50+</td><td>2016</td><td>1000</td></tr><tr><td>50+</td><td>2017</td><td>722</td></tr></tbody></table></div>"
      ]
     },
     "metadata": {
      "application/vnd.databricks.v1+output": {
       "addedWidgets": {},
       "aggData": [],
       "aggError": "",
       "aggOverflow": false,
       "aggSchema": [],
       "aggSeriesLimitReached": false,
       "aggType": "",
       "arguments": {},
       "columnCustomDisplayInfos": {},
       "data": [
        [
         "18-24",
         2015,
         221000
        ],
        [
         "18-24",
         2016,
         36000
        ],
        [
         "18-24",
         2017,
         18000
        ],
        [
         "25-35",
         2015,
         42000
        ],
        [
         "25-35",
         2016,
         24000
        ],
        [
         "25-35",
         2017,
         1000
        ],
        [
         "36-50",
         2015,
         10000
        ],
        [
         "36-50",
         2016,
         9000
        ],
        [
         "36-50",
         2017,
         3000
        ],
        [
         "50+",
         2015,
         1000
        ],
        [
         "50+",
         2016,
         1000
        ],
        [
         "50+",
         2017,
         722
        ]
       ],
       "datasetInfos": [],
       "dbfsResultPath": null,
       "isJsonSchema": true,
       "metadata": {},
       "overflow": false,
       "plotOptions": {
        "customPlotOptions": {},
        "displayType": "table",
        "pivotAggregation": null,
        "pivotColumns": null,
        "xColumns": null,
        "yColumns": null
       },
       "removedWidgets": [],
       "schema": [
        {
         "metadata": "{}",
         "name": "age_group",
         "type": "\"string\""
        },
        {
         "metadata": "{}",
         "name": "post_year",
         "type": "\"integer\""
        },
        {
         "metadata": "{}",
         "name": "median_follower_count",
         "type": "\"integer\""
        }
       ],
       "type": "table"
      }
     },
     "output_type": "display_data"
    },
    {
     "data": {
      "text/plain": [
       "Databricks visualization. Run in Databricks to view."
      ]
     },
     "metadata": {
      "application/vnd.databricks.v1.subcommand+json": {
       "bindings": {},
       "collapsed": false,
       "command": "%python\n__backend_agg_display_orig = display\n__backend_agg_dfs = []\ndef __backend_agg_display_new(df):\n    __backend_agg_df_modules = [\"pandas.core.frame\", \"databricks.koalas.frame\", \"pyspark.sql.dataframe\", \"pyspark.pandas.frame\", \"pyspark.sql.connect.dataframe\"]\n    if (type(df).__module__ in __backend_agg_df_modules and type(df).__name__ == 'DataFrame') or isinstance(df, list):\n        __backend_agg_dfs.append(df)\n\ndisplay = __backend_agg_display_new\n\ndef __backend_agg_user_code_fn():\n    import base64\n    exec(base64.standard_b64decode(\"IyBDcmVhdGUgbmV3IGNvbHVtbiBwb3N0X3llYXIsIHRoYXQgY29udGFpbnMgb25seSB0aGUgeWVhciBmcm9tIHRoZSBkYXRlX2pvaW5lZCBjb2x1bW4gYW5kIGZpbHRlciBmb3IgeWVhcnMgMjAxNSB0byAyMDIwLiBHcm91cCBieSBhZ2UgZ3JvdXBzIGFuZCB5ZWFyLCBhbmQgZmluZCBtZWRpYW4gb2YgZm9sbG93IGNvdW50LiAKY29tYmluZWRfcGluX3VzZXIud2l0aENvbHVtbigicG9zdF95ZWFyIiwgeWVhcigiZGF0ZV9qb2luZWQiKSkgXAogICAgLmZpbHRlcigoY29sKCJwb3N0X3llYXIiKSA8PSAyMDIwKSAmIChjb2woInBvc3RfeWVhciIpID49IDIwMTUpKSBcCiAgICAuZ3JvdXBCeSgiYWdlX2dyb3VwIiwgInBvc3RfeWVhciIpLmFnZyhwZXJjZW50aWxlX2FwcHJveCgiZm9sbG93ZXJfY291bnQiLCAwLjUpLmFsaWFzKCJtZWRpYW5fZm9sbG93ZXJfY291bnQiKSkgXAogICAgLm9yZGVyQnkoImFnZV9ncm91cCIsICJwb3N0X3llYXIiKS5kaXNwbGF5KCk=\").decode())\n\ntry:\n    # run user code\n    __backend_agg_user_code_fn()\n\n    #reset display function\n    display = __backend_agg_display_orig\n\n    if len(__backend_agg_dfs) > 0:\n        # create a temp view\n        if type(__backend_agg_dfs[0]).__module__ == \"databricks.koalas.frame\":\n            # koalas dataframe\n            __backend_agg_dfs[0].to_spark().createOrReplaceTempView(\"DatabricksViewb19d907\")\n        elif type(__backend_agg_dfs[0]).__module__ == \"pandas.core.frame\" or isinstance(__backend_agg_dfs[0], list):\n            # pandas dataframe\n            spark.createDataFrame(__backend_agg_dfs[0]).createOrReplaceTempView(\"DatabricksViewb19d907\")\n        else:\n            __backend_agg_dfs[0].createOrReplaceTempView(\"DatabricksViewb19d907\")\n        #run backend agg\n        display(spark.sql(\"\"\"WITH q AS (select * from DatabricksViewb19d907) SELECT `post_year`,SUM(`median_follower_count`) `column_9f97d6c45`,`age_group` FROM q GROUP BY `age_group`,`post_year`\"\"\"))\n    else:\n        displayHTML(\"dataframe no longer exists. If you're using dataframe.display(), use display(dataframe) instead.\")\n\n\nfinally:\n    spark.sql(\"drop view if exists DatabricksViewb19d907\")\n    display = __backend_agg_display_orig\n    del __backend_agg_display_new\n    del __backend_agg_display_orig\n    del __backend_agg_dfs\n    del __backend_agg_user_code_fn\n\n",
       "commandTitle": "Visualization 1",
       "commandType": "auto",
       "commandVersion": 0,
       "commentThread": [],
       "commentsVisible": false,
       "contentSha256Hex": null,
       "customPlotOptions": {
        "redashChart": [
         {
          "key": "type",
          "value": "CHART"
         },
         {
          "key": "options",
          "value": {
           "alignYAxesAtZero": true,
           "coefficient": 1,
           "columnConfigurationMap": {
            "series": {
             "column": "age_group",
             "id": "column_9f97d6c46"
            },
            "x": {
             "column": "post_year",
             "id": "column_9f97d6c48"
            },
            "y": [
             {
              "column": "median_follower_count",
              "id": "column_9f97d6c45",
              "transform": "SUM"
             }
            ]
           },
           "dateTimeFormat": "DD/MM/YYYY HH:mm",
           "direction": {
            "type": "counterclockwise"
           },
           "error_y": {
            "type": "data",
            "visible": true
           },
           "globalSeriesType": "column",
           "isAggregationOn": true,
           "legend": {
            "traceorder": "normal"
           },
           "missingValuesAsZero": true,
           "numberFormat": "0,0.[00000]",
           "percentFormat": "0[.]00%",
           "series": {
            "error_y": {
             "type": "data",
             "visible": true
            },
            "stacking": null
           },
           "seriesOptions": {
            "column_9f97d6c45": {
             "name": "median_follower_count",
             "type": "column",
             "yAxis": 0
            }
           },
           "showDataLabels": false,
           "sizemode": "diameter",
           "sortX": true,
           "sortY": true,
           "swappedAxes": false,
           "textFormat": "",
           "useAggregationsUi": true,
           "valuesOptions": {},
           "version": 2,
           "xAxis": {
            "labels": {
             "enabled": true
            },
            "type": "category"
           },
           "yAxis": [
            {
             "type": "-"
            },
            {
             "opposite": true,
             "type": "-"
            }
           ]
          }
         }
        ]
       },
       "datasetPreviewNameToCmdIdMap": {},
       "diffDeletes": [],
       "diffInserts": [],
       "displayType": "redashChart",
       "error": null,
       "errorDetails": null,
       "errorSummary": null,
       "errorTraceType": null,
       "finishTime": 0,
       "globalVars": {},
       "guid": "",
       "height": "auto",
       "hideCommandCode": false,
       "hideCommandResult": false,
       "iPythonMetadata": null,
       "inputWidgets": {},
       "isLockedInExamMode": false,
       "latestUser": "a user",
       "latestUserId": null,
       "listResultMetadata": null,
       "metadata": {
        "byteLimit": 2048000,
        "rowLimit": 10000
       },
       "nuid": "7bc85cf6-1ba6-43f2-8b3b-95a3ed7340c3",
       "origId": 0,
       "parentHierarchy": [],
       "pivotAggregation": null,
       "pivotColumns": null,
       "position": 51.62428283691406,
       "resultDbfsErrorMessage": null,
       "resultDbfsStatus": "INLINED_IN_TREE",
       "results": null,
       "showCommandTitle": false,
       "startTime": 0,
       "state": "input",
       "streamStates": {},
       "subcommandOptions": {
        "queryPlan": {
         "groups": [
          {
           "column": "post_year",
           "type": "column"
          },
          {
           "column": "age_group",
           "type": "column"
          }
         ],
         "selects": [
          {
           "column": "post_year",
           "type": "column"
          },
          {
           "alias": "column_9f97d6c45",
           "args": [
            {
             "column": "median_follower_count",
             "type": "column"
            }
           ],
           "function": "SUM",
           "type": "function"
          },
          {
           "column": "age_group",
           "type": "column"
          }
         ]
        }
       },
       "submitTime": 0,
       "subtype": "tableResultSubCmd.visualization",
       "tableResultIndex": 0,
       "useConsistentColors": false,
       "version": "CommandV1",
       "width": "auto",
       "workflows": [],
       "xColumns": null,
       "yColumns": null
      }
     },
     "output_type": "display_data"
    }
   ],
   "source": [
    "# Create new column post_year, that contains only the year from the date_joined column and filter for years 2015 to 2020. \n",
    "# Group by age groups and year, and find median of follow count. \n",
    "combined_pin_user.withColumn(\"post_year\", year(\"date_joined\")) \\\n",
    "    .filter((col(\"post_year\") <= 2020) & (col(\"post_year\") >= 2015)) \\\n",
    "    .groupBy(\"age_group\", \"post_year\").agg(percentile_approx(\"follower_count\", 0.5).alias(\"median_follower_count\")) \\\n",
    "    .orderBy(\"age_group\", \"post_year\").display()"
   ]
  }
 ],
 "metadata": {
  "application/vnd.databricks.v1+notebook": {
   "dashboards": [
    {
     "elements": [],
     "globalVars": {},
     "guid": "",
     "layoutOption": {
      "grid": true,
      "stack": true
     },
     "nuid": "463173df-730e-4b01-9011-24839641f796",
     "origId": 3354243294567867,
     "title": "Untitled",
     "version": "DashboardViewV1",
     "width": 1024
    }
   ],
   "language": "python",
   "notebookMetadata": {
    "pythonIndentUnit": 4
   },
   "notebookName": "pinterest_batch_data",
   "widgets": {}
  },
  "language_info": {
   "name": "python"
  }
 },
 "nbformat": 4,
 "nbformat_minor": 0
}
